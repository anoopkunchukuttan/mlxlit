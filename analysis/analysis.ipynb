{
 "cells": [
  {
   "cell_type": "code",
   "execution_count": 23,
   "metadata": {
    "collapsed": true
   },
   "outputs": [],
   "source": [
    "import pandas as pd"
   ]
  },
  {
   "cell_type": "markdown",
   "metadata": {},
   "source": [
    "# Language Modelling"
   ]
  },
  {
   "cell_type": "markdown",
   "metadata": {},
   "source": [
    "RNN language models (with LSTM cells) were trained on monolingual word lists in 2 configurations: \n",
    "\n",
    "- one-hot embeddings\n",
    "- phonetic vectors\n",
    "\n",
    "##  Experimental Settings\n",
    "\n",
    "- LSTM based LM implementation: Modification of Tensorflow's PTB LM sample code\n",
    "- Configuration: \n",
    "  - init_scale = 0.1\n",
    "  - learning_rate = 1.0\n",
    "  - max_grad_norm = 5\n",
    "  - num_layers = 2\n",
    "  - num_steps = 20\n",
    "  - hidden_size = 200\n",
    "  - max_epoch = 4\n",
    "  - max_max_epoch = 13\n",
    "  - keep_prob = 1.0\n",
    "  - lr_decay = 0.5\n",
    "  - batch_size = 20\n",
    "  - GradientDescent Optimizer\n",
    "\n",
    "** Note** \n",
    "\n",
    "- For characters which don't have phonetic embeddings, one-hot embeddings were used\n",
    "- LMs were trained with varying amounts of training corpora (number of words)\n",
    "\n",
    "## Results \n",
    "** (See table below) ** \n",
    "\n",
    "_Experiment name: 1-train-size _\n",
    "\n",
    "- The perplexity of the models trained with phonetic representation is substantially less than that of one-hot representation. \n",
    "- With increase in data-size, the phonetic representation seems to be doing better.\n",
    "- Corpus normalization reduces perplexity. The original NEWS corpus contains nukta-adjoined characters as a single codepoint. Normalization separates the nukta and the character and a phonetic embedding is clearly useful for that\n"
   ]
  },
  {
   "cell_type": "code",
   "execution_count": 42,
   "metadata": {
    "collapsed": true
   },
   "outputs": [],
   "source": [
    "lm_results_fname='lm_results.csv'"
   ]
  },
  {
   "cell_type": "code",
   "execution_count": 43,
   "metadata": {
    "collapsed": false
   },
   "outputs": [],
   "source": [
    "lm_results=pd.read_csv(lm_results_fname,sep='|',names=['set','size','exp','lang','perplexity'])"
   ]
  },
  {
   "cell_type": "markdown",
   "metadata": {},
   "source": [
    "** Dataset: CoNLL 2016 paper dataset **"
   ]
  },
  {
   "cell_type": "code",
   "execution_count": 44,
   "metadata": {
    "collapsed": false
   },
   "outputs": [
    {
     "data": {
      "text/html": [
       "<div>\n",
       "<table border=\"1\" class=\"dataframe\">\n",
       "  <thead>\n",
       "    <tr>\n",
       "      <th></th>\n",
       "      <th colspan=\"8\" halign=\"left\">perplexity</th>\n",
       "    </tr>\n",
       "    <tr>\n",
       "      <th>lang</th>\n",
       "      <th colspan=\"2\" halign=\"left\">bn</th>\n",
       "      <th colspan=\"2\" halign=\"left\">hi</th>\n",
       "      <th colspan=\"2\" halign=\"left\">kn</th>\n",
       "      <th colspan=\"2\" halign=\"left\">ta</th>\n",
       "    </tr>\n",
       "    <tr>\n",
       "      <th>exp</th>\n",
       "      <th>onehot</th>\n",
       "      <th>phonetic</th>\n",
       "      <th>onehot</th>\n",
       "      <th>phonetic</th>\n",
       "      <th>onehot</th>\n",
       "      <th>phonetic</th>\n",
       "      <th>onehot</th>\n",
       "      <th>phonetic</th>\n",
       "    </tr>\n",
       "    <tr>\n",
       "      <th>size</th>\n",
       "      <th></th>\n",
       "      <th></th>\n",
       "      <th></th>\n",
       "      <th></th>\n",
       "      <th></th>\n",
       "      <th></th>\n",
       "      <th></th>\n",
       "      <th></th>\n",
       "    </tr>\n",
       "  </thead>\n",
       "  <tbody>\n",
       "    <tr>\n",
       "      <th>1000</th>\n",
       "      <td>15.500</td>\n",
       "      <td>15.367</td>\n",
       "      <td>16.774</td>\n",
       "      <td>16.661</td>\n",
       "      <td>14.657</td>\n",
       "      <td>14.648</td>\n",
       "      <td>12.966</td>\n",
       "      <td>13.211</td>\n",
       "    </tr>\n",
       "    <tr>\n",
       "      <th>2000</th>\n",
       "      <td>13.923</td>\n",
       "      <td>13.890</td>\n",
       "      <td>15.369</td>\n",
       "      <td>15.217</td>\n",
       "      <td>12.398</td>\n",
       "      <td>12.468</td>\n",
       "      <td>11.042</td>\n",
       "      <td>11.412</td>\n",
       "    </tr>\n",
       "    <tr>\n",
       "      <th>5000</th>\n",
       "      <td>12.430</td>\n",
       "      <td>12.463</td>\n",
       "      <td>13.700</td>\n",
       "      <td>13.872</td>\n",
       "      <td>11.783</td>\n",
       "      <td>11.341</td>\n",
       "      <td>9.672</td>\n",
       "      <td>9.657</td>\n",
       "    </tr>\n",
       "    <tr>\n",
       "      <th>15000</th>\n",
       "      <td>12.687</td>\n",
       "      <td>11.923</td>\n",
       "      <td>13.700</td>\n",
       "      <td>12.790</td>\n",
       "      <td>10.918</td>\n",
       "      <td>9.916</td>\n",
       "      <td>9.706</td>\n",
       "      <td>8.842</td>\n",
       "    </tr>\n",
       "    <tr>\n",
       "      <th>25000</th>\n",
       "      <td>12.031</td>\n",
       "      <td>11.126</td>\n",
       "      <td>13.067</td>\n",
       "      <td>12.258</td>\n",
       "      <td>9.771</td>\n",
       "      <td>9.141</td>\n",
       "      <td>8.780</td>\n",
       "      <td>8.376</td>\n",
       "    </tr>\n",
       "    <tr>\n",
       "      <th>35000</th>\n",
       "      <td>11.577</td>\n",
       "      <td>10.693</td>\n",
       "      <td>12.571</td>\n",
       "      <td>11.636</td>\n",
       "      <td>9.220</td>\n",
       "      <td>8.675</td>\n",
       "      <td>8.379</td>\n",
       "      <td>8.106</td>\n",
       "    </tr>\n",
       "  </tbody>\n",
       "</table>\n",
       "</div>"
      ],
      "text/plain": [
       "      perplexity                                                            \n",
       "lang          bn               hi               kn               ta         \n",
       "exp       onehot phonetic  onehot phonetic  onehot phonetic  onehot phonetic\n",
       "size                                                                        \n",
       "1000      15.500   15.367  16.774   16.661  14.657   14.648  12.966   13.211\n",
       "2000      13.923   13.890  15.369   15.217  12.398   12.468  11.042   11.412\n",
       "5000      12.430   12.463  13.700   13.872  11.783   11.341   9.672    9.657\n",
       "15000     12.687   11.923  13.700   12.790  10.918    9.916   9.706    8.842\n",
       "25000     12.031   11.126  13.067   12.258   9.771    9.141   8.780    8.376\n",
       "35000     11.577   10.693  12.571   11.636   9.220    8.675   8.379    8.106"
      ]
     },
     "execution_count": 44,
     "metadata": {},
     "output_type": "execute_result"
    }
   ],
   "source": [
    "lm_results[lm_results['set']=='conll16'].pivot_table(index=['size'],columns=['lang','exp'],values=['perplexity'])"
   ]
  },
  {
   "cell_type": "markdown",
   "metadata": {},
   "source": [
    "** Dataset: Old NEWS 2012 dataset (the one used by Gurneet in his experiments) **"
   ]
  },
  {
   "cell_type": "code",
   "execution_count": 45,
   "metadata": {
    "collapsed": false
   },
   "outputs": [
    {
     "data": {
      "text/html": [
       "<div>\n",
       "<table border=\"1\" class=\"dataframe\">\n",
       "  <thead>\n",
       "    <tr>\n",
       "      <th></th>\n",
       "      <th colspan=\"4\" halign=\"left\">perplexity</th>\n",
       "    </tr>\n",
       "    <tr>\n",
       "      <th>lang</th>\n",
       "      <th colspan=\"2\" halign=\"left\">hi</th>\n",
       "      <th colspan=\"2\" halign=\"left\">kn</th>\n",
       "    </tr>\n",
       "    <tr>\n",
       "      <th>exp</th>\n",
       "      <th>onehot</th>\n",
       "      <th>phonetic</th>\n",
       "      <th>onehot</th>\n",
       "      <th>phonetic</th>\n",
       "    </tr>\n",
       "    <tr>\n",
       "      <th>size</th>\n",
       "      <th></th>\n",
       "      <th></th>\n",
       "      <th></th>\n",
       "      <th></th>\n",
       "    </tr>\n",
       "  </thead>\n",
       "  <tbody>\n",
       "    <tr>\n",
       "      <th>1000</th>\n",
       "      <td>17.730</td>\n",
       "      <td>17.309</td>\n",
       "      <td>12.436</td>\n",
       "      <td>12.283</td>\n",
       "    </tr>\n",
       "    <tr>\n",
       "      <th>2000</th>\n",
       "      <td>15.629</td>\n",
       "      <td>15.206</td>\n",
       "      <td>11.241</td>\n",
       "      <td>11.152</td>\n",
       "    </tr>\n",
       "    <tr>\n",
       "      <th>5000</th>\n",
       "      <td>13.095</td>\n",
       "      <td>12.981</td>\n",
       "      <td>9.875</td>\n",
       "      <td>9.876</td>\n",
       "    </tr>\n",
       "    <tr>\n",
       "      <th>8000</th>\n",
       "      <td>12.577</td>\n",
       "      <td>12.188</td>\n",
       "      <td>9.498</td>\n",
       "      <td>9.285</td>\n",
       "    </tr>\n",
       "    <tr>\n",
       "      <th>10000</th>\n",
       "      <td>12.313</td>\n",
       "      <td>11.999</td>\n",
       "      <td>9.388</td>\n",
       "      <td>9.209</td>\n",
       "    </tr>\n",
       "    <tr>\n",
       "      <th>13000</th>\n",
       "      <td>12.223</td>\n",
       "      <td>11.783</td>\n",
       "      <td>9.135</td>\n",
       "      <td>8.942</td>\n",
       "    </tr>\n",
       "  </tbody>\n",
       "</table>\n",
       "</div>"
      ],
      "text/plain": [
       "      perplexity                          \n",
       "lang          hi               kn         \n",
       "exp       onehot phonetic  onehot phonetic\n",
       "size                                      \n",
       "1000      17.730   17.309  12.436   12.283\n",
       "2000      15.629   15.206  11.241   11.152\n",
       "5000      13.095   12.981   9.875    9.876\n",
       "8000      12.577   12.188   9.498    9.285\n",
       "10000     12.313   11.999   9.388    9.209\n",
       "13000     12.223   11.783   9.135    8.942"
      ]
     },
     "execution_count": 45,
     "metadata": {},
     "output_type": "execute_result"
    }
   ],
   "source": [
    "lm_results[lm_results['set']=='news12_old'].pivot_table(index=['size'],columns=['lang','exp'],values=['perplexity'])"
   ]
  },
  {
   "cell_type": "markdown",
   "metadata": {},
   "source": [
    "** Dataset: NEWS 2012 dataset (Old NEWS 2012 corpus normalized) **"
   ]
  },
  {
   "cell_type": "code",
   "execution_count": 46,
   "metadata": {
    "collapsed": false
   },
   "outputs": [
    {
     "data": {
      "text/html": [
       "<div>\n",
       "<table border=\"1\" class=\"dataframe\">\n",
       "  <thead>\n",
       "    <tr>\n",
       "      <th></th>\n",
       "      <th colspan=\"4\" halign=\"left\">perplexity</th>\n",
       "    </tr>\n",
       "    <tr>\n",
       "      <th>lang</th>\n",
       "      <th colspan=\"2\" halign=\"left\">hi</th>\n",
       "      <th colspan=\"2\" halign=\"left\">kn</th>\n",
       "    </tr>\n",
       "    <tr>\n",
       "      <th>exp</th>\n",
       "      <th>onehot</th>\n",
       "      <th>phonetic</th>\n",
       "      <th>onehot</th>\n",
       "      <th>phonetic</th>\n",
       "    </tr>\n",
       "    <tr>\n",
       "      <th>size</th>\n",
       "      <th></th>\n",
       "      <th></th>\n",
       "      <th></th>\n",
       "      <th></th>\n",
       "    </tr>\n",
       "  </thead>\n",
       "  <tbody>\n",
       "    <tr>\n",
       "      <th>1000</th>\n",
       "      <td>17.524</td>\n",
       "      <td>16.789</td>\n",
       "      <td>12.494</td>\n",
       "      <td>12.315</td>\n",
       "    </tr>\n",
       "    <tr>\n",
       "      <th>2000</th>\n",
       "      <td>14.879</td>\n",
       "      <td>15.157</td>\n",
       "      <td>11.159</td>\n",
       "      <td>11.142</td>\n",
       "    </tr>\n",
       "    <tr>\n",
       "      <th>5000</th>\n",
       "      <td>12.704</td>\n",
       "      <td>12.735</td>\n",
       "      <td>9.926</td>\n",
       "      <td>9.882</td>\n",
       "    </tr>\n",
       "    <tr>\n",
       "      <th>8000</th>\n",
       "      <td>12.285</td>\n",
       "      <td>11.869</td>\n",
       "      <td>9.511</td>\n",
       "      <td>9.488</td>\n",
       "    </tr>\n",
       "    <tr>\n",
       "      <th>10000</th>\n",
       "      <td>12.017</td>\n",
       "      <td>11.698</td>\n",
       "      <td>9.368</td>\n",
       "      <td>9.111</td>\n",
       "    </tr>\n",
       "    <tr>\n",
       "      <th>13000</th>\n",
       "      <td>12.036</td>\n",
       "      <td>11.209</td>\n",
       "      <td>9.289</td>\n",
       "      <td>8.773</td>\n",
       "    </tr>\n",
       "  </tbody>\n",
       "</table>\n",
       "</div>"
      ],
      "text/plain": [
       "      perplexity                          \n",
       "lang          hi               kn         \n",
       "exp       onehot phonetic  onehot phonetic\n",
       "size                                      \n",
       "1000      17.524   16.789  12.494   12.315\n",
       "2000      14.879   15.157  11.159   11.142\n",
       "5000      12.704   12.735   9.926    9.882\n",
       "8000      12.285   11.869   9.511    9.488\n",
       "10000     12.017   11.698   9.368    9.111\n",
       "13000     12.036   11.209   9.289    8.773"
      ]
     },
     "execution_count": 46,
     "metadata": {},
     "output_type": "execute_result"
    }
   ],
   "source": [
    "lm_results[lm_results['set']=='news12'].pivot_table(index=['size'],columns=['lang','exp'],values=['perplexity'])"
   ]
  },
  {
   "cell_type": "code",
   "execution_count": null,
   "metadata": {
    "collapsed": true
   },
   "outputs": [],
   "source": []
  }
 ],
 "metadata": {
  "kernelspec": {
   "display_name": "Python 2",
   "language": "python",
   "name": "python2"
  },
  "language_info": {
   "codemirror_mode": {
    "name": "ipython",
    "version": 2
   },
   "file_extension": ".py",
   "mimetype": "text/x-python",
   "name": "python",
   "nbconvert_exporter": "python",
   "pygments_lexer": "ipython2",
   "version": "2.7.6"
  }
 },
 "nbformat": 4,
 "nbformat_minor": 0
}
